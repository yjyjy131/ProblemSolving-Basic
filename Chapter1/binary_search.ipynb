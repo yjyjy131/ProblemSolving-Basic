{
  "nbformat": 4,
  "nbformat_minor": 0,
  "metadata": {
    "colab": {
      "name": "binary_search.ipynb",
      "provenance": [],
      "collapsed_sections": []
    },
    "kernelspec": {
      "name": "python3",
      "display_name": "Python 3"
    },
    "language_info": {
      "name": "python"
    }
  },
  "cells": [
    {
      "cell_type": "markdown",
      "metadata": {
        "id": "SNAgsj3uT2l3"
      },
      "source": [
        "### Binary Search"
      ]
    },
    {
      "cell_type": "markdown",
      "metadata": {
        "id": "yDSnycQ1T6A3"
      },
      "source": [
        "**ex )**  [1, 3, 4, 2, 5, 6] 에서 5의 위치를 이진 검색을 사용해 반환\n",
        "\n",
        "***1.*** 전체 리스트를 오름차순으로 정렬\n",
        "\n",
        "***2.*** 중위값과 타겟의 크기를 비교\n",
        "   - 중위값 < 타겟 이라면 리스트[중위값:] 으로 \n",
        "   - 타겟 < 중위값 이라면 리스트[:중위값] 으로  \n",
        "\n",
        "***3.*** 2의 과정을 타겟값을 찾을때까지 반복"
      ]
    },
    {
      "cell_type": "code",
      "metadata": {
        "colab": {
          "base_uri": "https://localhost:8080/"
        },
        "id": "fZ2nAEuv6gca",
        "outputId": "2a3ba98c-c267-49ff-d6cd-e1a2380cdf58"
      },
      "source": [
        "inputs = input()"
      ],
      "execution_count": 83,
      "outputs": [
        {
          "output_type": "stream",
          "text": [
               ],
          "name": "stdout"
        }
      ]
    },
    {
      "cell_type": "code",
      "metadata": {
        "id": "w5CoVNur6l9k"
      },
      "source": [
        "input_list = [int(val) for val in inputs.split()]"
      ],
      "execution_count": 84,
      "outputs": []
    },
    {
      "cell_type": "code",
      "metadata": {
        "id": "oggQV4kL7uKm"
      },
      "source": [
        "num = input_list[0]\n",
        "target = input_list[1]\n",
        "input_list = input_list[2:]"
      ],
      "execution_count": 85,
      "outputs": []
    },
    {
      "cell_type": "code",
      "metadata": {
        "id": "S1_0J7tN7lx-"
      },
      "source": [
        "input_list.sort()"
      ],
      "execution_count": 86,
      "outputs": []
    },
    {
      "cell_type": "code",
      "metadata": {
        "id": "2oIeJB9J_6tF"
      },
      "source": [
        "mylist = input_list"
      ],
      "execution_count": 87,
      "outputs": []
    },
    {
      "cell_type": "code",
      "metadata": {
        "id": "sjs_Gd5GQJPP"
      },
      "source": [
        "l = 0\n",
        "r = len(mylist) - 1\n",
        "m = len(mylist) // 2"
      ],
      "execution_count": 88,
      "outputs": []
    },
    {
      "cell_type": "code",
      "metadata": {
        "id": "U3v8VhPBRNoW"
      },
      "source": [
        "while 1 :\n",
        "  val = mylist[m]\n",
        "\n",
        "  if val < target :\n",
        "    l = m \n",
        "    m = m + (r - m)//2\n",
        "  elif val > target:\n",
        "    r = m\n",
        "    m = m//2\n",
        "  elif val == target:\n",
        "    break"
      ],
      "execution_count": 89,
      "outputs": []
    },
    {
      "cell_type": "code",
      "metadata": {
        "colab": {
          "base_uri": "https://localhost:8080/"
        },
        "id": "CQkTEZKaRKC5",
        "outputId": "8757c2fb-2249-4a8e-9d02-1b4532c392d2"
      },
      "source": [
        "print(f'{m+1} 번째 원소')"
      ],
      "execution_count": 90,
      "outputs": [
        {
          "output_type": "stream",
          "text": [
            "291 번째 원소\n"
          ],
          "name": "stdout"
        }
      ]
    },
    {
      "cell_type": "code",
      "metadata": {
        "id": "L3x3eCsaRHkK"
      },
      "source": [
        ""
      ],
      "execution_count": null,
      "outputs": []
    }
  ]
}
